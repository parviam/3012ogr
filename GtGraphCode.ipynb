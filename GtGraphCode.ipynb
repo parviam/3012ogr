{
 "cells": [
  {
   "cell_type": "code",
   "execution_count": 2,
   "id": "f3b9da2c",
   "metadata": {},
   "outputs": [],
   "source": [
    "import cv2\n",
    "import numpy as np\n",
    "import matplotlib.pyplot as plt\n",
    "\n",
    "def digitizeGraph(image):\n",
    "    # Load the image\n",
    "    img = cv2.imread(image, cv2.IMREAD_COLOR)\n",
    "\n",
    "    plt.imshow(img)\n",
    "\n",
    "    # Convert the image to grayscale\n",
    "    gray = cv2.cvtColor(img, cv2.COLOR_BGR2GRAY)\n",
    "\n",
    "\n",
    "    # Apply Canny edge detection\n",
    "    edges = cv2.Canny(gray, threshold1=100, threshold2=150, apertureSize=7)\n",
    "\n",
    "    # Apply Hough Circle Transform\n",
    "    circles = cv2.HoughCircles(gray,cv2.HOUGH_GRADIENT, dp=1, minDist=20, param1=50, param2=30, minRadius=0, maxRadius=0)\n",
    "\n",
    "\n",
    "    lines = cv2.HoughLinesP(edges, 1, np.pi / 180, threshold=50, minLineLength=100, maxLineGap=0)\n",
    "\n",
    "\n",
    "\n",
    "    #lines are given in xy coordinates\n",
    "    # Determine which circles are connected by lines\n",
    "    connected_circles = []\n",
    "    for line_id, line in enumerate(lines):\n",
    "        x1, y1, x2, y2 = line[0]\n",
    "\n",
    "        two_circles = []\n",
    "        for circle_id, circle in enumerate(circles[0]):\n",
    "            cx, cy, _ = circle\n",
    "            distance1 = np.sqrt((cx - x1)**2 + (cy - y1)**2)\n",
    "            distance2 = np.sqrt((cx - x2)**2 + (cy - y2)**2)\n",
    "            if distance1 <= circles[0][0][2] + 100 or distance2 <= circles[0][0][2] + 100:\n",
    "                two_circles.append(circle_id + 1)\n",
    "        connected_circles.append(two_circles)  \n",
    "\n",
    "    unique_connections = []\n",
    "    for pair in range(len(connected_circles)):\n",
    "        if connected_circles[pair] in unique_connections:\n",
    "            continue\n",
    "        if len(connected_circles[pair]) == 0: \n",
    "            continue\n",
    "        else:\n",
    "            unique_connections.append(connected_circles[pair])\n",
    "\n",
    "    print(unique_connections)\n",
    "\n",
    "    # Write connections to a text file\n",
    "    with open('EdgesAndNodes.txt', 'w') as file:\n",
    "        file.write(f\"{len(circles[0])}\\n\")\n",
    "        for connection in unique_connections:\n",
    "            file.write(f\"{connection[0]} {connection[1]}\\n\")\n"
   ]
  },
  {
   "cell_type": "code",
   "execution_count": null,
   "id": "272ea7a7",
   "metadata": {},
   "outputs": [],
   "source": []
  }
 ],
 "metadata": {
  "kernelspec": {
   "display_name": "PytorchEnv",
   "language": "python",
   "name": "pytorchenv"
  },
  "language_info": {
   "codemirror_mode": {
    "name": "ipython",
    "version": 3
   },
   "file_extension": ".py",
   "mimetype": "text/x-python",
   "name": "python",
   "nbconvert_exporter": "python",
   "pygments_lexer": "ipython3",
   "version": "3.11.3"
  }
 },
 "nbformat": 4,
 "nbformat_minor": 5
}
